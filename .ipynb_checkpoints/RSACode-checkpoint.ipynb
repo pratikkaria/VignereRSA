{
 "cells": [
  {
   "cell_type": "code",
   "execution_count": 71,
   "metadata": {},
   "outputs": [],
   "source": [
    "import gmpy2\n",
    "import random\n",
    "from gmpy2 import mpz,is_strong_prp,is_strong_lucas_prp\n",
    "import math\n",
    "import numpy as np"
   ]
  },
  {
   "cell_type": "code",
   "execution_count": 72,
   "metadata": {},
   "outputs": [],
   "source": [
    "letterMap={}\n",
    "letterMap['a']=0\n",
    "\n",
    "reverseMap={}\n",
    "reverseMap[0]='a'\n",
    "\n",
    "for i in range(1,26):\n",
    "    letterMap[chr(97+i)]=i\n",
    "    reverseMap[i]=chr(97+i)"
   ]
  },
  {
   "cell_type": "code",
   "execution_count": 73,
   "metadata": {},
   "outputs": [],
   "source": [
    "e = 3\n",
    "n = 28471"
   ]
  },
  {
   "cell_type": "code",
   "execution_count": 91,
   "metadata": {},
   "outputs": [],
   "source": []
  },
  {
   "cell_type": "code",
   "execution_count": 92,
   "metadata": {},
   "outputs": [
    {
     "data": {
      "text/plain": [
       "3"
      ]
     },
     "execution_count": 92,
     "metadata": {},
     "output_type": "execute_result"
    }
   ],
   "source": [
    "blockSize"
   ]
  },
  {
   "cell_type": "code",
   "execution_count": 95,
   "metadata": {},
   "outputs": [],
   "source": [
    "def encryption(text,e,n,base):\n",
    "    blockSize=int(math.floor(gmpy2.log(n)/gmpy2.log(26)))\n",
    "    flag=0\n",
    "    a=0\n",
    "    print(text)\n",
    "    for i in range(len(text)-1,-1,-1):\n",
    "        a += letterMap[text[i]]*pow(base,flag)\n",
    "        flag+=1\n",
    "    blockSize = 3\n",
    "    cipherText = pow(a,e) % n\n",
    "    print(cipherText)\n",
    "    back = cipherText\n",
    "    out = \"\"\n",
    "    a = []\n",
    "    for i in range(blockSize,-1,-1):\n",
    "        a.append(math.floor(back/pow(base,i)))\n",
    "        back = back % pow(base,i)\n",
    "    \n",
    "    cipherText1 = \"\"\n",
    "    for i in a:\n",
    "        cipherText1 +=reverseMap[i]\n",
    "    print(cipherText1)\n",
    "    return cipherText1\n",
    "\n",
    "def decryption(text,d,n,base):\n",
    "    flag=0\n",
    "    a=0\n",
    "    print(text)\n",
    "    for i in range(len(text)-1,-1,-1):\n",
    "        a += letterMap[text[i]]*pow(base,flag)\n",
    "        flag+=1\n",
    "        \n",
    "    blockSize = 3\n",
    "    cipherText = pow(a,d) % n\n",
    "    back = cipherText\n",
    "    out = \"\"\n",
    "    a = []\n",
    "    for i in range(blockSize-1,-1,-1):\n",
    "        a.append(math.floor(back/pow(base,i)))\n",
    "        back = back % pow(base,i)\n",
    "    \n",
    "    cipherText1 = \"\"\n",
    "    for i in a:\n",
    "        cipherText1 +=reverseMap[i]\n",
    "    print(cipherText1)\n",
    "    return cipherText1"
   ]
  },
  {
   "cell_type": "code",
   "execution_count": 96,
   "metadata": {},
   "outputs": [
    {
     "name": "stdout",
     "output_type": "stream",
     "text": [
      "ind\n",
      "17884\n",
      "balw\n"
     ]
    },
    {
     "data": {
      "text/plain": [
       "'balw'"
      ]
     },
     "execution_count": 96,
     "metadata": {},
     "output_type": "execute_result"
    }
   ],
   "source": [
    "encryption(\"ind\",3,28471,26)"
   ]
  },
  {
   "cell_type": "code",
   "execution_count": 99,
   "metadata": {},
   "outputs": [
    {
     "name": "stdout",
     "output_type": "stream",
     "text": [
      "balw\n",
      "ind\n"
     ]
    },
    {
     "data": {
      "text/plain": [
       "'ind'"
      ]
     },
     "execution_count": 99,
     "metadata": {},
     "output_type": "execute_result"
    }
   ],
   "source": [
    "decryption(\"balw\",18667,28471,26)"
   ]
  },
  {
   "cell_type": "code",
   "execution_count": 98,
   "metadata": {},
   "outputs": [
    {
     "data": {
      "text/plain": [
       "mpz(18667)"
      ]
     },
     "execution_count": 98,
     "metadata": {},
     "output_type": "execute_result"
    }
   ],
   "source": [
    "gmpy2.invert(3,28000)"
   ]
  },
  {
   "cell_type": "code",
   "execution_count": null,
   "metadata": {},
   "outputs": [],
   "source": []
  }
 ],
 "metadata": {
  "kernelspec": {
   "display_name": "Python 3",
   "language": "python",
   "name": "python3"
  },
  "language_info": {
   "codemirror_mode": {
    "name": "ipython",
    "version": 3
   },
   "file_extension": ".py",
   "mimetype": "text/x-python",
   "name": "python",
   "nbconvert_exporter": "python",
   "pygments_lexer": "ipython3",
   "version": "3.7.4"
  }
 },
 "nbformat": 4,
 "nbformat_minor": 2
}
