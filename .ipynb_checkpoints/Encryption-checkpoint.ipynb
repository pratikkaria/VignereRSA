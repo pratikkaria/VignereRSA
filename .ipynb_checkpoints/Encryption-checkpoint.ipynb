{
 "cells": [
  {
   "cell_type": "code",
   "execution_count": 42,
   "metadata": {},
   "outputs": [],
   "source": [
    "import numpy as np\n",
    "from gmpy2 import mpz\n",
    "import gmpy2"
   ]
  },
  {
   "cell_type": "code",
   "execution_count": 2,
   "metadata": {},
   "outputs": [],
   "source": [
    "letterMap={}\n",
    "letterMap['a']=0\n",
    "\n",
    "reverseMap={}\n",
    "reverseMap[0]='a'\n",
    "\n",
    "for i in range(1,26):\n",
    "    letterMap[chr(97+i)]=i\n",
    "    reverseMap[i]=chr(97+i)"
   ]
  },
  {
   "cell_type": "code",
   "execution_count": 28,
   "metadata": {},
   "outputs": [],
   "source": [
    "class Vignere:\n",
    "    def __init__(self, key):\n",
    "        self.key = key\n",
    "        self.encryptedText = \"\"\n",
    "        self.decryptedText = \"\"\n",
    "        \n",
    "    def Encryption(self,plainText):\n",
    "        key = self.key\n",
    "        lengthOfKey = len(key)\n",
    "        cipherText = \"\"\n",
    "        for i in range(len(plainText)):\n",
    "            cipherText+=reverseMap[(letterMap[plainText[i]]+letterMap[key[i%lengthOfKey]])%26]\n",
    "        self.encryptedText = cipherText\n",
    "        \n",
    "    def Decryption(self):\n",
    "        key = self.key\n",
    "        cipherText = self.encryptedText\n",
    "        lengthOfKey = len(key)\n",
    "        plainText = \"\"\n",
    "        for i in range(len(cipherText)):\n",
    "            plainText+=reverseMap[(letterMap[cipherText[i]]-letterMap[key[i%lengthOfKey]])%26]\n",
    "        \n",
    "        self.decryptedText = plainText"
   ]
  },
  {
   "cell_type": "code",
   "execution_count": 60,
   "metadata": {},
   "outputs": [],
   "source": [
    "class RSA:\n",
    "    def __init__(self, publicKey, privateKey):\n",
    "        self.publicKey = publicKey\n",
    "        self.privateKey = privateKey\n",
    "        self.encryptedText = \"\"\n",
    "        self.decryptedText = \"\"\n",
    "        \n",
    "    "
   ]
  },
  {
   "cell_type": "code",
   "execution_count": 59,
   "metadata": {},
   "outputs": [],
   "source": [
    "#x = a mod b \n",
    "# coeffList -> List of a coefficient\n",
    "# modlist -> List of b mods\n",
    "def CRT(coeffList,modList):\n",
    "    listOfNis = []\n",
    "    N = np.prod(modList)\n",
    "    answer=0\n",
    "    for i in range(len(coeffList)):\n",
    "        Ni = (N/modList[i])\n",
    "        answer+= coeffList[i]*Ni*gmpy2.invert(int(Ni),modList[i])\n",
    "    return int(answer%N)"
   ]
  },
  {
   "cell_type": "code",
   "execution_count": null,
   "metadata": {},
   "outputs": [],
   "source": []
  },
  {
   "cell_type": "code",
   "execution_count": null,
   "metadata": {},
   "outputs": [],
   "source": []
  }
 ],
 "metadata": {
  "kernelspec": {
   "display_name": "Python 3",
   "language": "python",
   "name": "python3"
  },
  "language_info": {
   "codemirror_mode": {
    "name": "ipython",
    "version": 3
   },
   "file_extension": ".py",
   "mimetype": "text/x-python",
   "name": "python",
   "nbconvert_exporter": "python",
   "pygments_lexer": "ipython3",
   "version": "3.7.4"
  }
 },
 "nbformat": 4,
 "nbformat_minor": 2
}
