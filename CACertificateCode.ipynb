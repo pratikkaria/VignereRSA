{
 "cells": [
  {
   "cell_type": "code",
   "execution_count": 1,
   "metadata": {},
   "outputs": [],
   "source": [
    "import gmpy2\n",
    "import random\n",
    "from gmpy2 import mpz,is_strong_prp,is_strong_lucas_prp\n",
    "import math"
   ]
  },
  {
   "cell_type": "code",
   "execution_count": 2,
   "metadata": {},
   "outputs": [
    {
     "data": {
      "text/html": [
       "<style>.container { width:80% !important; }</style>"
      ],
      "text/plain": [
       "<IPython.core.display.HTML object>"
      ]
     },
     "metadata": {},
     "output_type": "display_data"
    }
   ],
   "source": [
    "from IPython.core.display import display, HTML\n",
    "display(HTML(\"<style>.container { width:80% !important; }</style>\"))"
   ]
  },
  {
   "cell_type": "code",
   "execution_count": 3,
   "metadata": {},
   "outputs": [],
   "source": [
    "letterMap={}\n",
    "letterMap['a']=0\n",
    "\n",
    "reverseMap={}\n",
    "reverseMap[0]='a'\n",
    "\n",
    "for i in range(1,26):\n",
    "    letterMap[chr(97+i)]=i\n",
    "    reverseMap[i]=chr(97+i)\n",
    "\n",
    "for i in range(0,10):\n",
    "    reverseMap[26+i]=str(i)\n",
    "    letterMap[str(i)] = 26+i"
   ]
  },
  {
   "cell_type": "code",
   "execution_count": null,
   "metadata": {},
   "outputs": [],
   "source": []
  },
  {
   "cell_type": "code",
   "execution_count": 4,
   "metadata": {},
   "outputs": [],
   "source": [
    "def generateTwoStrongPrimes():\n",
    "    numberOfPrimes = 2\n",
    "    strongPrimes=[]\n",
    "    while numberOfPrimes>0:     \n",
    "        initial=\"1\"\n",
    "        count = 5\n",
    "        for i in range(0,510):\n",
    "            initial+=str(random.randint(0,1))\n",
    "        initial+=\"1\"\n",
    "        first=int(initial,2)\n",
    "        \n",
    "        while not gmpy2.is_prime(first):\n",
    "            first = gmpy2.next_prime(first)\n",
    "        second = gmpy2.next_prime(first)\n",
    "        while not gmpy2.is_prime(second):\n",
    "            second = gmpy2.next_prime(second)\n",
    "        while True:\n",
    "            third = gmpy2.next_prime(second)\n",
    "            while not gmpy2.is_prime(third):\n",
    "                third = gmpy2.next_prime(third)        \n",
    "            if (first+third)/2 < second and gmpy2.is_prime((second-1)//2):\n",
    "                strongPrimes.append(second)\n",
    "                numberOfPrimes-=1\n",
    "                break\n",
    "            else:\n",
    "                count-=1\n",
    "                if count==0:\n",
    "                    break\n",
    "                first = second\n",
    "                second=third\n",
    "    return strongPrimes"
   ]
  },
  {
   "cell_type": "code",
   "execution_count": 5,
   "metadata": {},
   "outputs": [],
   "source": [
    "def encryption(text,e,n,base):\n",
    "    blockSize=int(math.floor(gmpy2.log(n)/gmpy2.log(36)))\n",
    "    flag=0\n",
    "    a=0\n",
    "    for i in range(len(text)-1,-1,-1):\n",
    "        a += letterMap[text[i]]*pow(base,flag)\n",
    "        flag+=1\n",
    "    blockSize=int(math.floor(gmpy2.log(n)/gmpy2.log(36)))\n",
    "    cipherText = gmpy2.powmod(a,e,n)\n",
    "    print(cipherText)\n",
    "    back = cipherText\n",
    "    out = \"\"\n",
    "    a = []\n",
    "    for i in range(blockSize,-1,-1):\n",
    "        a.append(math.floor(back/pow(base,i)))\n",
    "        back = back % pow(base,i)\n",
    "    \n",
    "    cipherText1 = \"\"\n",
    "    for i in a:\n",
    "        cipherText1 +=reverseMap[i]\n",
    "    return cipherText1\n",
    "\n",
    "def decryption(text,d,n,base):\n",
    "    flag=0\n",
    "    a=0\n",
    "    for i in range(len(text)-1,-1,-1):\n",
    "        a += letterMap[text[i]]*pow(base,flag)\n",
    "        flag+=1\n",
    "        \n",
    "    blockSize=int(math.floor(gmpy2.log(n)/gmpy2.log(36)))\n",
    "    cipherText = gmpy2.powmod(a,d,n)\n",
    "    back = cipherText\n",
    "    out = \"\"\n",
    "    a = []\n",
    "    for i in range(blockSize-1,-1,-1):\n",
    "        a.append(math.floor(back/pow(base,i)))\n",
    "        back = back % pow(base,i)\n",
    "    \n",
    "    cipherText1 = \"\"\n",
    "    for i in a:\n",
    "        cipherText1 +=reverseMap[i]\n",
    "    return cipherText1"
   ]
  },
  {
   "cell_type": "code",
   "execution_count": 15,
   "metadata": {},
   "outputs": [],
   "source": [
    "def saveForUser(userId,CAn,CAPrivateKey,a,e1):\n",
    "    \n",
    "    strongPrimes = a\n",
    "    p = strongPrimes[0]\n",
    "    q = strongPrimes[1]\n",
    "    n = p*q\n",
    "    phin = (p-1)*(q-1)\n",
    "    while True:\n",
    "        initialNo=\"\"\n",
    "        for i in range(0,156):\n",
    "            initialNo+=str(random.randint(1,9))\n",
    "\n",
    "        e  = int(initialNo)\n",
    "        if gmpy2.gcd(e,phin)==1:\n",
    "            break\n",
    "    d = gmpy2.invert(e,phin)   \n",
    "    pubKeyEnc = encryption(str(e),CAPrivateKey,CAn,36)\n",
    "    NEnc = encryption(str(n),CAPrivateKey,CAn,36)\n",
    "    priKeyEnc = encryption(str(d),CAPrivateKey,CAn,36)\n",
    "    pEnc = encryption(str(p),CAPrivateKey,CAn,36)\n",
    "    qEnc = encryption(str(q),CAPrivateKey,CAn,36)\n",
    "    \n",
    "    toSaveInPrivateFile = str(priKeyEnc)+\"|\"+str(pEnc)+\"|\"+str(qEnc)+\"|\"+str(NEnc)\n",
    "    toSaveInPublicFile = str(userId)+\"|\"+str(pubKeyEnc)+\"|\"+str(NEnc)\n",
    "\n",
    "\n",
    "    with open(\"publicKeys.txt\", \"a\") as myfile:\n",
    "        myfile.write(toSaveInPublicFile+\"|\\n\")\n",
    "    with open(\"privateKeyFor\"+str(userId)+\".txt\", \"w\") as myfile:\n",
    "        myfile.write(toSaveInPrivateFile+\"|\\n\")\n",
    "    \n",
    "    \n",
    "def main(a):\n",
    "#     userId = sys.argv[1]\n",
    "    fp = open(\"CAPublicKey\",\"r\")\n",
    "    publicKey = fp.readlines()\n",
    "    fp.close()\n",
    "    fp = open(\"CAPrivateKey\",\"r\")\n",
    "    privateKey = fp.readlines()\n",
    "    fp.close()\n",
    "    n = int(publicKey[0].replace(\"\\n\",\"\"))\n",
    "    e = int(publicKey[1].replace(\"\\n\",\"\"))\n",
    "    d = int(privateKey[2].replace(\"\\n\",\"\"))\n",
    "    saveForUser(24,n,d,a,e)"
   ]
  },
  {
   "cell_type": "code",
   "execution_count": 16,
   "metadata": {},
   "outputs": [
    {
     "name": "stdout",
     "output_type": "stream",
     "text": [
      "Strong Prime\n",
      "Strong Prime\n",
      "[mpz(6934104632955403748419032131298128582832415824496313126094149042212831371553384108008618947384768133004705697093145978276582412045221759226579420225297703), mpz(8736315405928751627910675446139810019643941433734144178552332467482262889929584646801683583852821600388586287420504794932373403490898271442656538946818919)]\n",
      "Original\n",
      "291799688272377593185456153935999196297475745994133898153145357774191127736423771981443487988518811217317886551528233514359853549751712161854557542476749689\n",
      "970947184163498524063933934417888292847695661644121801898611470320729738587215341779558397700293960347822647459152265042968454041432379052312251363728717913574165945448841877414220470161874790861832362785816047683192155699343323648509881548287947115609075050610467650795332719779134730877868836843109601423536\n",
      "6366407916443968985071085255431156146559669074033361089798140908648122171581316960288743933635127872152095696990268572207316576566945430106456769414115231616508104102335031228573865251522539776045038728461602075283049793690145572673371228049470077142440767061853229845748891635835345558898770244490677762831816\n",
      "2624668228900575023431162715495531684327528929491442984234566318226453123812225442623579800842434227183248598756189747305639661283273996061612715282676927097912425577475126916983833705960265917627715891195811948266394857462706416208670395585947763304468511398344825428278523064718121435971119631068187087361390\n",
      "7082093278248451965555484867769031059273444357837010251001837458950106427814443248347154889880784844680065257875657259153998504763541333178670744606261285664875945961871641439941761233742684418850935592864730995283347790694892602055334771792615612115180566804136717376736505702835480985443497957089334237715607\n",
      "5422221262890243406162000648182374190818714454145174941095329386911087750765272293083472775733476944420868545422161209636509200738953041730693493096543319750860929122567916628032157230528101699826660641558115910272680493816775436529345971542955388066237736022998417954434127550320481237487358610169420970319891\n"
     ]
    }
   ],
   "source": [
    "if __name__==\"__main__\":\n",
    "    a = generateTwoStrongPrimes()\n",
    "    main(a)\n",
    "    print(\"Public Key Stored in publickeys.txt and Private Key stored in privatekeyFor<userid>.txt\")"
   ]
  },
  {
   "cell_type": "code",
   "execution_count": null,
   "metadata": {},
   "outputs": [],
   "source": []
  },
  {
   "cell_type": "code",
   "execution_count": null,
   "metadata": {},
   "outputs": [],
   "source": []
  },
  {
   "cell_type": "code",
   "execution_count": null,
   "metadata": {},
   "outputs": [],
   "source": []
  },
  {
   "cell_type": "code",
   "execution_count": null,
   "metadata": {},
   "outputs": [],
   "source": []
  },
  {
   "cell_type": "code",
   "execution_count": null,
   "metadata": {},
   "outputs": [],
   "source": []
  },
  {
   "cell_type": "code",
   "execution_count": null,
   "metadata": {},
   "outputs": [],
   "source": []
  },
  {
   "cell_type": "code",
   "execution_count": null,
   "metadata": {},
   "outputs": [],
   "source": []
  },
  {
   "cell_type": "code",
   "execution_count": null,
   "metadata": {},
   "outputs": [],
   "source": []
  },
  {
   "cell_type": "code",
   "execution_count": null,
   "metadata": {},
   "outputs": [],
   "source": []
  },
  {
   "cell_type": "code",
   "execution_count": null,
   "metadata": {},
   "outputs": [],
   "source": []
  },
  {
   "cell_type": "code",
   "execution_count": null,
   "metadata": {},
   "outputs": [],
   "source": []
  },
  {
   "cell_type": "code",
   "execution_count": null,
   "metadata": {},
   "outputs": [],
   "source": []
  },
  {
   "cell_type": "code",
   "execution_count": null,
   "metadata": {},
   "outputs": [],
   "source": []
  },
  {
   "cell_type": "code",
   "execution_count": null,
   "metadata": {},
   "outputs": [],
   "source": []
  },
  {
   "cell_type": "code",
   "execution_count": null,
   "metadata": {},
   "outputs": [],
   "source": []
  },
  {
   "cell_type": "code",
   "execution_count": null,
   "metadata": {},
   "outputs": [],
   "source": []
  }
 ],
 "metadata": {
  "kernelspec": {
   "display_name": "Python 3",
   "language": "python",
   "name": "python3"
  },
  "language_info": {
   "codemirror_mode": {
    "name": "ipython",
    "version": 3
   },
   "file_extension": ".py",
   "mimetype": "text/x-python",
   "name": "python",
   "nbconvert_exporter": "python",
   "pygments_lexer": "ipython3",
   "version": "3.7.4"
  }
 },
 "nbformat": 4,
 "nbformat_minor": 2
}
