{
 "cells": [
  {
   "cell_type": "code",
   "execution_count": null,
   "metadata": {},
   "outputs": [],
   "source": [
    "import gmpy2\n",
    "import random\n",
    "from gmpy2 import mpz,is_strong_prp,is_strong_lucas_prp\n",
    "import math"
   ]
  },
  {
   "cell_type": "code",
   "execution_count": null,
   "metadata": {},
   "outputs": [],
   "source": [
    "from IPython.core.display import display, HTML\n",
    "display(HTML(\"<style>.container { width:80% !important; }</style>\"))"
   ]
  },
  {
   "cell_type": "code",
   "execution_count": null,
   "metadata": {},
   "outputs": [],
   "source": [
    "letterMap={}\n",
    "letterMap['a']=0\n",
    "\n",
    "reverseMap={}\n",
    "reverseMap[0]='a'\n",
    "\n",
    "for i in range(1,26):\n",
    "    letterMap[chr(97+i)]=i\n",
    "    reverseMap[i]=chr(97+i)\n",
    "\n",
    "for i in range(0,10):\n",
    "    reverseMap[26+i]=str(i)\n",
    "    letterMap[str(i)] = 26+i"
   ]
  },
  {
   "cell_type": "code",
   "execution_count": null,
   "metadata": {},
   "outputs": [],
   "source": []
  },
  {
   "cell_type": "code",
   "execution_count": null,
   "metadata": {},
   "outputs": [],
   "source": [
    "def generateTwoStrongPrimes():\n",
    "    numberOfPrimes = 2\n",
    "    strongPrimes=[]\n",
    "    while numberOfPrimes>0:     \n",
    "        initial=\"1\"\n",
    "        count = 5\n",
    "        for i in range(0,510):\n",
    "            initial+=str(random.randint(0,1))\n",
    "        initial+=\"1\"\n",
    "        first=int(initial,2)\n",
    "        \n",
    "        while not gmpy2.is_prime(first):\n",
    "            first = gmpy2.next_prime(first)\n",
    "        second = gmpy2.next_prime(first)\n",
    "        while not gmpy2.is_prime(second):\n",
    "            second = gmpy2.next_prime(second)\n",
    "        while True:\n",
    "            third = gmpy2.next_prime(second)\n",
    "            while not gmpy2.is_prime(third):\n",
    "                third = gmpy2.next_prime(third)        \n",
    "            if (first+third)/2 < second and gmpy2.is_prime((second-1)//2):\n",
    "                strongPrimes.append(second)\n",
    "                numberOfPrimes-=1\n",
    "                break\n",
    "            else:\n",
    "                count-=1\n",
    "                if count==0:\n",
    "                    break\n",
    "                first = second\n",
    "                second=third\n",
    "    return strongPrimes"
   ]
  },
  {
   "cell_type": "code",
   "execution_count": null,
   "metadata": {},
   "outputs": [],
   "source": [
    "def encryption(text,e,n,base):\n",
    "    blockSize=int(math.floor(gmpy2.log(n)/gmpy2.log(36)))\n",
    "    flag=0\n",
    "    a=0\n",
    "    for i in range(len(text)-1,-1,-1):\n",
    "        a += letterMap[text[i]]*pow(base,flag)\n",
    "        flag+=1\n",
    "    blockSize=int(math.floor(gmpy2.log(n)/gmpy2.log(36)))\n",
    "    cipherText = gmpy2.powmod(a,e,n)\n",
    "    print(cipherText)\n",
    "    back = cipherText\n",
    "    out = \"\"\n",
    "    a = []\n",
    "    for i in range(blockSize,-1,-1):\n",
    "        a.append(math.floor(back/pow(base,i)))\n",
    "        back = back % pow(base,i)\n",
    "    \n",
    "    cipherText1 = \"\"\n",
    "    for i in a:\n",
    "        cipherText1 +=reverseMap[i]\n",
    "    return cipherText1\n",
    "\n",
    "def decryption(text,d,n,base):\n",
    "    flag=0\n",
    "    a=0\n",
    "    for i in range(len(text)-1,-1,-1):\n",
    "        a += letterMap[text[i]]*pow(base,flag)\n",
    "        flag+=1\n",
    "        \n",
    "    blockSize=int(math.floor(gmpy2.log(n)/gmpy2.log(36)))\n",
    "    cipherText = gmpy2.powmod(a,d,n)\n",
    "    back = cipherText\n",
    "    out = \"\"\n",
    "    a = []\n",
    "    for i in range(blockSize-1,-1,-1):\n",
    "        a.append(math.floor(back/pow(base,i)))\n",
    "        back = back % pow(base,i)\n",
    "    \n",
    "    cipherText1 = \"\"\n",
    "    for i in a:\n",
    "        cipherText1 +=reverseMap[i]\n",
    "    return cipherText1"
   ]
  },
  {
   "cell_type": "code",
   "execution_count": null,
   "metadata": {},
   "outputs": [],
   "source": [
    "def saveForUser(userId,CAn,CAPrivateKey,a,e1):\n",
    "    \n",
    "    strongPrimes = a\n",
    "    p = strongPrimes[0]\n",
    "    q = strongPrimes[1]\n",
    "    n = p*q\n",
    "    phin = (p-1)*(q-1)\n",
    "    while True:\n",
    "        initialNo=\"\"\n",
    "        for i in range(0,156):\n",
    "            initialNo+=str(random.randint(1,9))\n",
    "\n",
    "        e  = int(initialNo)\n",
    "        if gmpy2.gcd(e,phin)==1:\n",
    "            break\n",
    "    d = gmpy2.invert(e,phin)   \n",
    "    pubKeyEnc = encryption(str(e),CAPrivateKey,CAn,36)\n",
    "    NEnc = encryption(str(n),CAPrivateKey,CAn,36)\n",
    "    priKeyEnc = encryption(str(d),CAPrivateKey,CAn,36)\n",
    "    pEnc = encryption(str(p),CAPrivateKey,CAn,36)\n",
    "    qEnc = encryption(str(q),CAPrivateKey,CAn,36)\n",
    "    \n",
    "    toSaveInPrivateFile = str(priKeyEnc)+\"|\"+str(pEnc)+\"|\"+str(qEnc)+\"|\"+str(NEnc)\n",
    "    toSaveInPublicFile = str(userId)+\"|\"+str(pubKeyEnc)+\"|\"+str(NEnc)\n",
    "\n",
    "\n",
    "    with open(\"publicKeys.txt\", \"a\") as myfile:\n",
    "        myfile.write(toSaveInPublicFile+\"|\\n\")\n",
    "    with open(\"privateKeyFor\"+str(userId)+\".txt\", \"w\") as myfile:\n",
    "        myfile.write(toSaveInPrivateFile+\"|\\n\")\n",
    "    \n",
    "    \n",
    "def main(a):\n",
    "#     userId = sys.argv[1]\n",
    "    fp = open(\"CAPublicKey\",\"r\")\n",
    "    publicKey = fp.readlines()\n",
    "    fp.close()\n",
    "    fp = open(\"CAPrivateKey\",\"r\")\n",
    "    privateKey = fp.readlines()\n",
    "    fp.close()\n",
    "    n = int(publicKey[0].replace(\"\\n\",\"\"))\n",
    "    e = int(publicKey[1].replace(\"\\n\",\"\"))\n",
    "    d = int(privateKey[2].replace(\"\\n\",\"\"))\n",
    "    saveForUser(24,n,d,a,e)"
   ]
  },
  {
   "cell_type": "code",
   "execution_count": null,
   "metadata": {},
   "outputs": [],
   "source": [
    "if __name__==\"__main__\":\n",
    "    a = generateTwoStrongPrimes()\n",
    "    main(a)\n",
    "    print(\"Public Key Stored in publickeys.txt and Private Key stored in privatekeyFor<userid>.txt\")"
   ]
  },
  {
   "cell_type": "code",
   "execution_count": null,
   "metadata": {},
   "outputs": [],
   "source": []
  },
  {
   "cell_type": "code",
   "execution_count": null,
   "metadata": {},
   "outputs": [],
   "source": []
  },
  {
   "cell_type": "code",
   "execution_count": null,
   "metadata": {},
   "outputs": [],
   "source": []
  },
  {
   "cell_type": "code",
   "execution_count": null,
   "metadata": {},
   "outputs": [],
   "source": []
  },
  {
   "cell_type": "code",
   "execution_count": null,
   "metadata": {},
   "outputs": [],
   "source": []
  },
  {
   "cell_type": "code",
   "execution_count": null,
   "metadata": {},
   "outputs": [],
   "source": []
  },
  {
   "cell_type": "code",
   "execution_count": null,
   "metadata": {},
   "outputs": [],
   "source": []
  },
  {
   "cell_type": "code",
   "execution_count": null,
   "metadata": {},
   "outputs": [],
   "source": []
  },
  {
   "cell_type": "code",
   "execution_count": null,
   "metadata": {},
   "outputs": [],
   "source": []
  },
  {
   "cell_type": "code",
   "execution_count": null,
   "metadata": {},
   "outputs": [],
   "source": []
  },
  {
   "cell_type": "code",
   "execution_count": null,
   "metadata": {},
   "outputs": [],
   "source": []
  },
  {
   "cell_type": "code",
   "execution_count": 5,
   "metadata": {},
   "outputs": [],
   "source": []
  },
  {
   "cell_type": "code",
   "execution_count": 6,
   "metadata": {},
   "outputs": [
    {
     "name": "stdout",
     "output_type": "stream",
     "text": [
      "9\n",
      "8\n",
      "7\n",
      "6\n",
      "5\n",
      "abvdsg\n"
     ]
    },
    {
     "data": {
      "text/plain": [
       "'abvdsg'"
      ]
     },
     "execution_count": 6,
     "metadata": {},
     "output_type": "execute_result"
    }
   ],
   "source": [
    "removeQa('abvdsgqqqq')"
   ]
  },
  {
   "cell_type": "code",
   "execution_count": null,
   "metadata": {},
   "outputs": [],
   "source": []
  },
  {
   "cell_type": "code",
   "execution_count": null,
   "metadata": {},
   "outputs": [],
   "source": []
  }
 ],
 "metadata": {
  "kernelspec": {
   "display_name": "Python 3",
   "language": "python",
   "name": "python3"
  },
  "language_info": {
   "codemirror_mode": {
    "name": "ipython",
    "version": 3
   },
   "file_extension": ".py",
   "mimetype": "text/x-python",
   "name": "python",
   "nbconvert_exporter": "python",
   "pygments_lexer": "ipython3",
   "version": "3.7.4"
  }
 },
 "nbformat": 4,
 "nbformat_minor": 2
}
