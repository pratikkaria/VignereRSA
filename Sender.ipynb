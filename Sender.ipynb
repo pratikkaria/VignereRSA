{
 "cells": [
  {
   "cell_type": "code",
   "execution_count": 37,
   "metadata": {},
   "outputs": [],
   "source": [
    "import numpy as np\n",
    "from gmpy2 import mpz\n",
    "import gmpy2\n"
   ]
  },
  {
   "cell_type": "code",
   "execution_count": 38,
   "metadata": {},
   "outputs": [],
   "source": [
    "letterMap={}\n",
    "letterMap['a']=0\n",
    "\n",
    "reverseMap={}\n",
    "reverseMap[0]='a'\n",
    "\n",
    "for i in range(1,26):\n",
    "    letterMap[chr(97+i)]=i\n",
    "    reverseMap[i]=chr(97+i)\n",
    "\n",
    "for i in range(0,10):\n",
    "    reverseMap[26+i]=str(i)\n",
    "    letterMap[str(i)] = 26+i"
   ]
  },
  {
   "cell_type": "code",
   "execution_count": 29,
   "metadata": {},
   "outputs": [
    {
     "name": "stdout",
     "output_type": "stream",
     "text": [
      "fjahs;flas\n",
      "lashfd;as\n",
      "sha9214e21knlfsa\n",
      "\n"
     ]
    }
   ],
   "source": [
    "def VigEncryption(key,plainText):\n",
    "    \n",
    "    lengthOfKey = len(key)\n",
    "    cipherText = \"\"\n",
    "    for i in range(len(plainText)):\n",
    "        cipherText+=reverseMap[(letterMap[plainText[i]]+letterMap[key[i%lengthOfKey]])%26]\n",
    "    return cipherText\n",
    "\n",
    "def VigDecryption(key,text):\n",
    "    cipherText = self.encryptedText\n",
    "    lengthOfKey = len(key)\n",
    "    plainText = \"\"\n",
    "    for i in range(len(cipherText)):\n",
    "        plainText+=reverseMap[(letterMap[cipherText[i]]-letterMap[key[i%lengthOfKey]])%26]\n",
    "\n",
    "    return plainText\n",
    "\n",
    "def encryption(text,e,n,base):\n",
    "    blockSize=int(math.floor(gmpy2.log(n)/gmpy2.log(26)))\n",
    "    flag=0\n",
    "    a=0\n",
    "    print(text)\n",
    "    for i in range(len(text)-1,-1,-1):\n",
    "        a += letterMap[text[i]]*pow(base,flag)\n",
    "        flag+=1\n",
    "    blockSize = 3\n",
    "    cipherText = gmpy2.powmod(a,e,n)\n",
    "    print(cipherText)\n",
    "    back = cipherText\n",
    "    out = \"\"\n",
    "    a = []\n",
    "    for i in range(blockSize,-1,-1):\n",
    "        a.append(math.floor(back/pow(base,i)))\n",
    "        back = back % pow(base,i)\n",
    "    \n",
    "    cipherText1 = \"\"\n",
    "    for i in a:\n",
    "        cipherText1 +=reverseMap[i]\n",
    "    return cipherText1\n",
    "\n",
    "def decryption(text,d,n,base):\n",
    "    flag=0\n",
    "    a=0\n",
    "    print(text)\n",
    "    for i in range(len(text)-1,-1,-1):\n",
    "        a += letterMap[text[i]]*pow(base,flag)\n",
    "        flag+=1\n",
    "        \n",
    "    blockSize = 3\n",
    "    cipherText = gmpy2.powmod(a,d,n)\n",
    "    back = cipherText\n",
    "    out = \"\"\n",
    "    a = []\n",
    "    for i in range(blockSize-1,-1,-1):\n",
    "        a.append(math.floor(back/pow(base,i)))\n",
    "        back = back % pow(base,i)\n",
    "    \n",
    "    cipherText1 = \"\"\n",
    "    for i in a:\n",
    "        cipherText1 +=reverseMap[i]\n",
    "    return cipherText1\n",
    "\n",
    "def SendMessage(message,vignereKey,receiverPublicKey,receiverN,senderPrivateKey,senderN):\n",
    "    encryptedByVignere = VigEncryption(vignereKey,message)\n",
    "    newText = str(len(vignereKey)+str(vignereKey)+str(encryptedByVignere))\n",
    "    signedByRSA = encryption(newText,senderPrivateKey,senderN,36)\n",
    "    encryptedByRSA = encryption(signedByRSA,receiverPublicKey,receiverN,36)             \n",
    "    return encryptedByRSA\n",
    "\n",
    "def main(message,userId,userToSend):\n",
    "    fp = open(\"publicKeys.txt\",\"r\")\n",
    "    keys  = fp.readlines()\n",
    "    fp.close()\n",
    "    userToSend=24\n",
    "    e=\"\"\n",
    "    n=\"\"\n",
    "    for i in keys:\n",
    "        i = i.split(\"|\")\n",
    "        if i[0]==str(userToSend):\n",
    "            e = i[1]\n",
    "            n = i[2]\n",
    "            break\n",
    "    fp = open(\"CAPublicKey\",\"r\")\n",
    "    keys = fp.readlines()\n",
    "    CAn = keys[0]\n",
    "    CAe = keys[1]\n",
    "    n = decryption(n,CAe,CAn,36)\n",
    "    e = decryption(e,CAe,CAn,36)\n",
    "    fp = open(\"privateKeyFor\"+str(userId)+\".txt\",\"r\")\n",
    "    keys = fp.readlines()\n",
    "    keys = keys[0].split(\"|\")\n",
    "    myD = decryption(keys[0],CAe,CAn,36)\n",
    "    myP = decryption(keys[1],CAe,CAn,36)\n",
    "    myQ = decryption(keys[2],CAe,CAn,36)\n",
    "    myN = decryption(keys[3],CAe,CAn,36)\n",
    "    fp = open(\"VignereKey.txt\",\"r\")\n",
    "    vigKey = fp.readlines()\n",
    "    vigKey = vigKey[0]\n",
    "    encryptedText = SendMessage(message,vigKey,e,n,myD,myN)\n",
    "    fp = open(\"EncryptedMessage.txt\",\"w\")\n",
    "    fp.write(str(encryptedText))\n",
    "    fp.close()\n",
    "\n",
    "if __name__==\"__main__\":\n",
    "    userId = sys.argv[1]\n",
    "    userToSend = sys.argv[2]\n",
    "    plainTextFile = sys.argv[3]\n",
    "    fp = open(plainTextFile,\"r\")\n",
    "    a = fp.read()\n",
    "    fp.close()\n",
    "    main(a,userId,userToSend)"
   ]
  },
  {
   "cell_type": "code",
   "execution_count": null,
   "metadata": {},
   "outputs": [],
   "source": []
  },
  {
   "cell_type": "code",
   "execution_count": 31,
   "metadata": {},
   "outputs": [],
   "source": [
    "a = \"aaaaaaaaaaaaaa1213\".strip(\"a\")"
   ]
  },
  {
   "cell_type": "code",
   "execution_count": 32,
   "metadata": {},
   "outputs": [
    {
     "data": {
      "text/plain": [
       "'1213'"
      ]
     },
     "execution_count": 32,
     "metadata": {},
     "output_type": "execute_result"
    }
   ],
   "source": [
    "a"
   ]
  },
  {
   "cell_type": "code",
   "execution_count": 160,
   "metadata": {},
   "outputs": [],
   "source": [
    "def encryption(text,e,n,base):\n",
    "    blockSize=int(math.floor(math.log(int(n),36)))\n",
    "    for i in range(0,len(text)%blockSize):\n",
    "        text+='q'\n",
    "    flag=0\n",
    "    a=0\n",
    "    cipherText1 = \"\"\n",
    "    out = \"\"\n",
    "    bs = []\n",
    "    for i in range(0,len(text),blockSize):\n",
    "        bs.append(text[i:i+blockSize])\n",
    "    for j in bs:\n",
    "        print(j)\n",
    "        a=0\n",
    "        for i in range(len(j)-1,-1,-1):\n",
    "            a += letterMap[str(j[i])]*pow(36,i)\n",
    "            flag+=1\n",
    "        cipherText = gmpy2.powmod(a,int(e),int(n))\n",
    "        back = cipherText\n",
    "        ab = []\n",
    "        for i in range(blockSize,-1,-1):\n",
    "            ab.append(math.floor(back/pow(base,i)))\n",
    "            back = back % pow(base,i)\n",
    "\n",
    "        for i in ab:\n",
    "            cipherText1 +=reverseMap[i]\n",
    "\n",
    "\n",
    "    return cipherText1[::-1]\n",
    "\n",
    "def decryption(text,d,n,base):\n",
    "\n",
    "    cipherText1 = \"\"\n",
    "    bs=[]\n",
    "\n",
    "    blockSize=int(math.floor(math.log(int(n),36)))+1\n",
    "    for i in range(0,len(text),blockSize):\n",
    "        bs.append(text[i:i+blockSize])\n",
    "    for j in bs:\n",
    "        a=0\n",
    "        for i in range(len(j)-1,-1,-1):\n",
    "            a += letterMap[j[i]]*pow(36,i)\n",
    "        ab=[]\n",
    "\n",
    "        it = pow(a,int(d),int(n))\n",
    "        back = it\n",
    "        for i in range(blockSize-2,-1,-1):\n",
    "            ab.append(math.floor(back/pow(base,i)))\n",
    "            back = back % pow(base,i)\n",
    "\n",
    "        for i in ab:\n",
    "            cipherText1 +=reverseMap[int(i)%36]\n",
    "\n",
    "    return cipherText1[::-1]\n",
    "\n",
    "def removeQa(text):\n",
    "    text1=\"\"\n",
    "\n",
    "    for i in range(len(text)-1,-1,-1):\n",
    "        if text[i]!='q':\n",
    "            text = text[0:i+1]\n",
    "            break\n",
    "    return text"
   ]
  },
  {
   "cell_type": "code",
   "execution_count": 161,
   "metadata": {},
   "outputs": [
    {
     "name": "stdout",
     "output_type": "stream",
     "text": [
      "12\n",
      "3q\n"
     ]
    },
    {
     "data": {
      "text/plain": [
       "'123q'"
      ]
     },
     "execution_count": 161,
     "metadata": {},
     "output_type": "execute_result"
    }
   ],
   "source": [
    "import math\n",
    "decryption(encryption(\"123\",3,28471,36),18667,28471,36)\n",
    "# letterMap"
   ]
  },
  {
   "cell_type": "code",
   "execution_count": 165,
   "metadata": {},
   "outputs": [
    {
     "data": {
      "text/plain": [
       "198"
      ]
     },
     "execution_count": 165,
     "metadata": {},
     "output_type": "execute_result"
    }
   ],
   "source": [
    "len('ue0ejg6v1s55eoyqws3m2zlq4kqsqer6r0t0i4jye75xq8ki91qbvu45wkmj35sca4lqunx1jil3agld6hwokr2mqebrvdimzfz9zesad73ymu002uhehzvhdisfagx2hzzbq43xotjhqjchqwvqtxqrlbbxis3vmwsl2c3euxbkofdfe9lanhk283wfongls6x7xi')"
   ]
  },
  {
   "cell_type": "code",
   "execution_count": 167,
   "metadata": {},
   "outputs": [
    {
     "data": {
      "text/plain": [
       "198"
      ]
     },
     "execution_count": 167,
     "metadata": {},
     "output_type": "execute_result"
    }
   ],
   "source": [
    "len('ue0ejg6v1s55eoyqws3m2zlq4kqsqer6r0t0i4jye75xq8ki91qbvu45wkmj35sca4lqunx1jil3agld6hwokr2mqebrvdimzfz9zesad73ymu002uhehzvhdisfagx2hzzbq43xotjhqjchqwvqtxqrlbbxis3vmwsl2c3euxbkofdfe9lanhk283wfongls6x7xi')"
   ]
  },
  {
   "cell_type": "code",
   "execution_count": 168,
   "metadata": {},
   "outputs": [],
   "source": [
    "a = 'ue0ejg6v1s55eoyqws3m2zlq4kqsqer6r0t0i4jye75xq8ki91qbvu45wkmj35sca4lqunx1jil3agld6hwokr2mqebrvdimzfz9zesad73ymu002uhehzvhdisfagx2hzzbq43xotjhqjchqwvqtxqrlbbxis3vmwsl2c3euxbkofdfe9lanhk283wfongls6x7xi'\n",
    "b = 'ue0ejg6v1s55eoyqws3m2zlq4kqsqer6r0t0i4jye75xq8ki91qbvu45wkmj35sca4lqunx1jil3agld6hwokr2mqebrvdimzfz9zesad73ymu002uhehzvhdisfagx2hzzbq43xotjhqjchqwvqtxqrlbbxis3vmwsl2c3euxbkofdfe9lanhk283wfongls6x7xi'"
   ]
  },
  {
   "cell_type": "code",
   "execution_count": 169,
   "metadata": {},
   "outputs": [
    {
     "data": {
      "text/plain": [
       "True"
      ]
     },
     "execution_count": 169,
     "metadata": {},
     "output_type": "execute_result"
    }
   ],
   "source": [
    "a==b"
   ]
  },
  {
   "cell_type": "code",
   "execution_count": null,
   "metadata": {},
   "outputs": [],
   "source": []
  }
 ],
 "metadata": {
  "kernelspec": {
   "display_name": "Python 3",
   "language": "python",
   "name": "python3"
  },
  "language_info": {
   "codemirror_mode": {
    "name": "ipython",
    "version": 3
   },
   "file_extension": ".py",
   "mimetype": "text/x-python",
   "name": "python",
   "nbconvert_exporter": "python",
   "pygments_lexer": "ipython3",
   "version": "3.7.4"
  }
 },
 "nbformat": 4,
 "nbformat_minor": 2
}
