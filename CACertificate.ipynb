{
 "cells": [
  {
   "cell_type": "code",
   "execution_count": 1,
   "metadata": {},
   "outputs": [],
   "source": [
    "import gmpy2\n",
    "import random\n",
    "from gmpy2 import mpz\n",
    "from sympy import nextprime, prevprime, factorint, randprime"
   ]
  },
  {
   "cell_type": "code",
   "execution_count": 2,
   "metadata": {},
   "outputs": [
    {
     "data": {
      "text/html": [
       "<style>.container { width:80% !important; }</style>"
      ],
      "text/plain": [
       "<IPython.core.display.HTML object>"
      ]
     },
     "metadata": {},
     "output_type": "display_data"
    }
   ],
   "source": [
    "from IPython.core.display import display, HTML\n",
    "display(HTML(\"<style>.container { width:80% !important; }</style>\"))"
   ]
  },
  {
   "cell_type": "code",
   "execution_count": 3,
   "metadata": {},
   "outputs": [],
   "source": [
    "numberOfDigits = 154"
   ]
  },
  {
   "cell_type": "code",
   "execution_count": 4,
   "metadata": {},
   "outputs": [],
   "source": [
    "def factors(n):\n",
    "    result = set()\n",
    "    n = mpz(n)\n",
    "    for i in range(gmpy2.isqrt(n),n):\n",
    "        div, mod = divmod(n, i)\n",
    "        if not mod:\n",
    "            result |= {mpz(i), div}\n",
    "            break\n",
    "    return result"
   ]
  },
  {
   "cell_type": "code",
   "execution_count": 6,
   "metadata": {},
   "outputs": [],
   "source": [
    "def checkStrongPrime(n):\n",
    "    first = n-1\n",
    "    second = n+1\n",
    "    third = int((n-1)/2)\n",
    "    if gmpy2.is_prime(first) and gmpy2.is_prime(second) and gmpy2.is_prime(third) and len(str(third))>=100:\n",
    "        return True\n",
    "    else:\n",
    "        return False"
   ]
  },
  {
   "cell_type": "code",
   "execution_count": 5,
   "metadata": {},
   "outputs": [],
   "source": [
    "initialNo = \"1\"\n",
    "for i in range(1,154):\n",
    "    initialNo+=\"0\"\n",
    "    \n",
    "check = int(initialNo)\n",
    "\n",
    "i=5\n",
    "# for i in range(1,154):\n",
    "#     initialNo+=random.randint(0,9)\n",
    "    \n",
    "while i>0:\n",
    "    a = gmpy2.next_prime(int(check))\n",
    "    break\n",
    "#     print(\"Checked : \",check,\" is not strong prime\")\n",
    "    if checkStrongPrime(int(gmpy2.next_prime(int(check)))):\n",
    "        print(\"Got Strong Prime:\",int(gmpy2.next_prime(int(check))))\n",
    "        i-=1\n",
    "        \n",
    "        break\n",
    "    else:\n",
    "        check = gmpy2.next_prime(int(check))+1\n",
    "#         print(\"Checked : \",check-1,\" is not strong prime\")\n"
   ]
  },
  {
   "cell_type": "code",
   "execution_count": 6,
   "metadata": {},
   "outputs": [
    {
     "data": {
      "text/plain": [
       "5"
      ]
     },
     "execution_count": 6,
     "metadata": {},
     "output_type": "execute_result"
    }
   ],
   "source": [
    "random.randint(5,6)"
   ]
  },
  {
   "cell_type": "code",
   "execution_count": 9,
   "metadata": {},
   "outputs": [],
   "source": [
    "a = int(a)"
   ]
  },
  {
   "cell_type": "code",
   "execution_count": 10,
   "metadata": {},
   "outputs": [
    {
     "data": {
      "text/plain": [
       "1000000000000000000000000000000000000000000000000000000000000000000000000000000000000000000000000000000000000000000000000000000000000000000000000000000087"
      ]
     },
     "execution_count": 10,
     "metadata": {},
     "output_type": "execute_result"
    }
   ],
   "source": [
    "a"
   ]
  },
  {
   "cell_type": "code",
   "execution_count": 11,
   "metadata": {},
   "outputs": [
    {
     "data": {
      "text/plain": [
       "False"
      ]
     },
     "execution_count": 11,
     "metadata": {},
     "output_type": "execute_result"
    }
   ],
   "source": [
    "gmpy2.is_prime(a-1)"
   ]
  },
  {
   "cell_type": "code",
   "execution_count": null,
   "metadata": {},
   "outputs": [],
   "source": []
  },
  {
   "cell_type": "code",
   "execution_count": null,
   "metadata": {},
   "outputs": [],
   "source": []
  }
 ],
 "metadata": {
  "kernelspec": {
   "display_name": "Python 3",
   "language": "python",
   "name": "python3"
  },
  "language_info": {
   "codemirror_mode": {
    "name": "ipython",
    "version": 3
   },
   "file_extension": ".py",
   "mimetype": "text/x-python",
   "name": "python",
   "nbconvert_exporter": "python",
   "pygments_lexer": "ipython3",
   "version": "3.7.4"
  }
 },
 "nbformat": 4,
 "nbformat_minor": 2
}
